{
 "cells": [
  {
   "cell_type": "markdown",
   "metadata": {},
   "source": [
    "# 車流量預測-以國道五號為例"
   ]
  },
  {
   "cell_type": "markdown",
   "metadata": {},
   "source": [
    "目標: 加入事故資料並預測車輛和車流量提供用路人參考\n",
    "\n",
    "因變數: 每天每小時車流量 \n",
    "\n",
    "自變數: \n",
    "1. 常發生事故的時間 (下午14:00~17:00; 星期六和星期日) \n",
    "2. 根據歷史資料計算指定組別的平均、中位數和標準差，例如以平日假日、星期幾和小時去進算平均、中位數和標準差，並合併至資料集中當作因子。\n",
    "\n",
    "資料區間: 2019/1/1~2019/12/31\n",
    "1. 訓練集時間: 2019/1/1~2019/9/30\n",
    "2. 測試集時間: 2019/10/1~2019/12/31"
   ]
  },
  {
   "cell_type": "markdown",
   "metadata": {},
   "source": [
    "## I. 安裝套件和設定"
   ]
  },
  {
   "cell_type": "code",
   "execution_count": 1,
   "metadata": {},
   "outputs": [
    {
     "name": "stderr",
     "output_type": "stream",
     "text": [
      "randomForest 4.6-14\n",
      "\n",
      "Type rfNews() to see new features/changes/bug fixes.\n",
      "\n"
     ]
    }
   ],
   "source": [
    "library(dplyr, warn.conflicts = FALSE) # 資料處理\n",
    "library(magrittr) # 更改欄位名稱 (set_colnames); %<>%\n",
    "library(stringr) # 字串處理\n",
    "library(lubridate, warn.conflicts = FALSE) # 時間處理\n",
    "library(tidyr, warn.conflicts = FALSE) # 處理 NA (replace_na)\n",
    "library(randomForest, warn.conflicts = FALSE) # 建立隨機森林模型\n",
    "library(Metrics) # 計算RMSE (rmse)\n",
    "RNGkind(sample.kind = \"Rejection\") # Random Number Generation的設定\n",
    "library(ggplot2, warn.conflicts = FALSE) # 繪圖\n",
    "options(scipen=999) # 數值不要以科學記號呈現"
   ]
  },
  {
   "cell_type": "markdown",
   "metadata": {},
   "source": [
    "## II. 讀入事故資料和車速車流量資料"
   ]
  },
  {
   "cell_type": "markdown",
   "metadata": {},
   "source": [
    "1. 事件資料\n",
    "\n",
    "包含事故發生的時間、事故級別、方向和回堵公里數。\n",
    "2. 車速車流量資料\n",
    "\n",
    "包含日期、小時、方向、時速、車流量和平日假日(0為平日; 1為星期五5點後和周末; 2為連續假期)。"
   ]
  },
  {
   "cell_type": "code",
   "execution_count": 2,
   "metadata": {},
   "outputs": [
    {
     "data": {
      "text/html": [
       "<table class=\"dataframe\">\n",
       "<caption>A data.frame: 6 × 5</caption>\n",
       "<thead>\n",
       "\t<tr><th></th><th scope=col>級數</th><th scope=col>日期</th><th scope=col>時間</th><th scope=col>方向</th><th scope=col>回堵公里數</th></tr>\n",
       "\t<tr><th></th><th scope=col>&lt;int&gt;</th><th scope=col>&lt;chr&gt;</th><th scope=col>&lt;chr&gt;</th><th scope=col>&lt;chr&gt;</th><th scope=col>&lt;dbl&gt;</th></tr>\n",
       "</thead>\n",
       "<tbody>\n",
       "\t<tr><th scope=row>1</th><td>2</td><td>2019-01-03</td><td>03:42</td><td>北向</td><td> NA</td></tr>\n",
       "\t<tr><th scope=row>2</th><td>3</td><td>2019-01-05</td><td>17:41</td><td>北向</td><td>2.0</td></tr>\n",
       "\t<tr><th scope=row>3</th><td>2</td><td>2019-01-08</td><td>05:04</td><td>南向</td><td> NA</td></tr>\n",
       "\t<tr><th scope=row>4</th><td>2</td><td>2019-01-08</td><td>08:41</td><td>北向</td><td> NA</td></tr>\n",
       "\t<tr><th scope=row>5</th><td>3</td><td>2019-01-08</td><td>22:09</td><td>北向</td><td> NA</td></tr>\n",
       "\t<tr><th scope=row>6</th><td>3</td><td>2019-01-09</td><td>17:12</td><td>北向</td><td>1.5</td></tr>\n",
       "</tbody>\n",
       "</table>\n"
      ],
      "text/latex": [
       "A data.frame: 6 × 5\n",
       "\\begin{tabular}{r|lllll}\n",
       "  & 級數 & 日期 & 時間 & 方向 & 回堵公里數\\\\\n",
       "  & <int> & <chr> & <chr> & <chr> & <dbl>\\\\\n",
       "\\hline\n",
       "\t1 & 2 & 2019-01-03 & 03:42 & 北向 &  NA\\\\\n",
       "\t2 & 3 & 2019-01-05 & 17:41 & 北向 & 2.0\\\\\n",
       "\t3 & 2 & 2019-01-08 & 05:04 & 南向 &  NA\\\\\n",
       "\t4 & 2 & 2019-01-08 & 08:41 & 北向 &  NA\\\\\n",
       "\t5 & 3 & 2019-01-08 & 22:09 & 北向 &  NA\\\\\n",
       "\t6 & 3 & 2019-01-09 & 17:12 & 北向 & 1.5\\\\\n",
       "\\end{tabular}\n"
      ],
      "text/markdown": [
       "\n",
       "A data.frame: 6 × 5\n",
       "\n",
       "| <!--/--> | 級數 &lt;int&gt; | 日期 &lt;chr&gt; | 時間 &lt;chr&gt; | 方向 &lt;chr&gt; | 回堵公里數 &lt;dbl&gt; |\n",
       "|---|---|---|---|---|---|\n",
       "| 1 | 2 | 2019-01-03 | 03:42 | 北向 |  NA |\n",
       "| 2 | 3 | 2019-01-05 | 17:41 | 北向 | 2.0 |\n",
       "| 3 | 2 | 2019-01-08 | 05:04 | 南向 |  NA |\n",
       "| 4 | 2 | 2019-01-08 | 08:41 | 北向 |  NA |\n",
       "| 5 | 3 | 2019-01-08 | 22:09 | 北向 |  NA |\n",
       "| 6 | 3 | 2019-01-09 | 17:12 | 北向 | 1.5 |\n",
       "\n"
      ],
      "text/plain": [
       "  級數 日期       時間  方向 回堵公里數\n",
       "1 2    2019-01-03 03:42 北向  NA       \n",
       "2 3    2019-01-05 17:41 北向 2.0       \n",
       "3 2    2019-01-08 05:04 南向  NA       \n",
       "4 2    2019-01-08 08:41 北向  NA       \n",
       "5 3    2019-01-08 22:09 北向  NA       \n",
       "6 3    2019-01-09 17:12 北向 1.5       "
      ]
     },
     "metadata": {},
     "output_type": "display_data"
    },
    {
     "name": "stdout",
     "output_type": "stream",
     "text": [
      "'data.frame':\t432 obs. of  5 variables:\n",
      " $ 級數      : int  2 3 2 2 3 3 3 2 3 3 ...\n",
      " $ 日期      : chr  \"2019-01-03\" \"2019-01-05\" \"2019-01-08\" \"2019-01-08\" ...\n",
      " $ 時間      : chr  \"03:42\" \"17:41\" \"05:04\" \"08:41\" ...\n",
      " $ 方向      : chr  \"北向\" \"北向\" \"南向\" \"北向\" ...\n",
      " $ 回堵公里數: num  NA 2 NA NA NA 1.5 NA NA NA 0.5 ...\n"
     ]
    }
   ],
   "source": [
    "data_accident = read.csv('short_messege_Accident.csv', stringsAsFactors = FALSE)\n",
    "head(data_accident)\n",
    "str(data_accident)"
   ]
  },
  {
   "cell_type": "code",
   "execution_count": 3,
   "metadata": {},
   "outputs": [
    {
     "data": {
      "text/html": [
       "<table class=\"dataframe\">\n",
       "<caption>A data.frame: 6 × 7</caption>\n",
       "<thead>\n",
       "\t<tr><th></th><th scope=col>Date</th><th scope=col>Weekday</th><th scope=col>Hour</th><th scope=col>Direction</th><th scope=col>Speed</th><th scope=col>Volume</th><th scope=col>Holiday_Label</th></tr>\n",
       "\t<tr><th></th><th scope=col>&lt;chr&gt;</th><th scope=col>&lt;chr&gt;</th><th scope=col>&lt;int&gt;</th><th scope=col>&lt;chr&gt;</th><th scope=col>&lt;dbl&gt;</th><th scope=col>&lt;int&gt;</th><th scope=col>&lt;int&gt;</th></tr>\n",
       "</thead>\n",
       "<tbody>\n",
       "\t<tr><th scope=row>1</th><td>2019/1/1</td><td>星期二</td><td>0</td><td>North</td><td>79.89083</td><td>1043</td><td>2</td></tr>\n",
       "\t<tr><th scope=row>2</th><td>2019/1/1</td><td>星期二</td><td>0</td><td>South</td><td>85.38361</td><td> 570</td><td>2</td></tr>\n",
       "\t<tr><th scope=row>3</th><td>2019/1/1</td><td>星期二</td><td>1</td><td>North</td><td>80.38067</td><td> 983</td><td>2</td></tr>\n",
       "\t<tr><th scope=row>4</th><td>2019/1/1</td><td>星期二</td><td>1</td><td>South</td><td>84.30533</td><td> 761</td><td>2</td></tr>\n",
       "\t<tr><th scope=row>5</th><td>2019/1/1</td><td>星期二</td><td>2</td><td>North</td><td>81.95773</td><td> 626</td><td>2</td></tr>\n",
       "\t<tr><th scope=row>6</th><td>2019/1/1</td><td>星期二</td><td>2</td><td>South</td><td>84.78433</td><td> 619</td><td>2</td></tr>\n",
       "</tbody>\n",
       "</table>\n"
      ],
      "text/latex": [
       "A data.frame: 6 × 7\n",
       "\\begin{tabular}{r|lllllll}\n",
       "  & Date & Weekday & Hour & Direction & Speed & Volume & Holiday\\_Label\\\\\n",
       "  & <chr> & <chr> & <int> & <chr> & <dbl> & <int> & <int>\\\\\n",
       "\\hline\n",
       "\t1 & 2019/1/1 & 星期二 & 0 & North & 79.89083 & 1043 & 2\\\\\n",
       "\t2 & 2019/1/1 & 星期二 & 0 & South & 85.38361 &  570 & 2\\\\\n",
       "\t3 & 2019/1/1 & 星期二 & 1 & North & 80.38067 &  983 & 2\\\\\n",
       "\t4 & 2019/1/1 & 星期二 & 1 & South & 84.30533 &  761 & 2\\\\\n",
       "\t5 & 2019/1/1 & 星期二 & 2 & North & 81.95773 &  626 & 2\\\\\n",
       "\t6 & 2019/1/1 & 星期二 & 2 & South & 84.78433 &  619 & 2\\\\\n",
       "\\end{tabular}\n"
      ],
      "text/markdown": [
       "\n",
       "A data.frame: 6 × 7\n",
       "\n",
       "| <!--/--> | Date &lt;chr&gt; | Weekday &lt;chr&gt; | Hour &lt;int&gt; | Direction &lt;chr&gt; | Speed &lt;dbl&gt; | Volume &lt;int&gt; | Holiday_Label &lt;int&gt; |\n",
       "|---|---|---|---|---|---|---|---|\n",
       "| 1 | 2019/1/1 | 星期二 | 0 | North | 79.89083 | 1043 | 2 |\n",
       "| 2 | 2019/1/1 | 星期二 | 0 | South | 85.38361 |  570 | 2 |\n",
       "| 3 | 2019/1/1 | 星期二 | 1 | North | 80.38067 |  983 | 2 |\n",
       "| 4 | 2019/1/1 | 星期二 | 1 | South | 84.30533 |  761 | 2 |\n",
       "| 5 | 2019/1/1 | 星期二 | 2 | North | 81.95773 |  626 | 2 |\n",
       "| 6 | 2019/1/1 | 星期二 | 2 | South | 84.78433 |  619 | 2 |\n",
       "\n"
      ],
      "text/plain": [
       "  Date     Weekday Hour Direction Speed    Volume Holiday_Label\n",
       "1 2019/1/1 星期二  0    North     79.89083 1043   2            \n",
       "2 2019/1/1 星期二  0    South     85.38361  570   2            \n",
       "3 2019/1/1 星期二  1    North     80.38067  983   2            \n",
       "4 2019/1/1 星期二  1    South     84.30533  761   2            \n",
       "5 2019/1/1 星期二  2    North     81.95773  626   2            \n",
       "6 2019/1/1 星期二  2    South     84.78433  619   2            "
      ]
     },
     "metadata": {},
     "output_type": "display_data"
    },
    {
     "name": "stdout",
     "output_type": "stream",
     "text": [
      "'data.frame':\t17054 obs. of  7 variables:\n",
      " $ Date         : chr  \"2019/1/1\" \"2019/1/1\" \"2019/1/1\" \"2019/1/1\" ...\n",
      " $ Weekday      : chr  \"星期二\" \"星期二\" \"星期二\" \"星期二\" ...\n",
      " $ Hour         : int  0 0 1 1 2 2 3 3 4 4 ...\n",
      " $ Direction    : chr  \"North\" \"South\" \"North\" \"South\" ...\n",
      " $ Speed        : num  79.9 85.4 80.4 84.3 82 ...\n",
      " $ Volume       : int  1043 570 983 761 626 619 466 400 423 294 ...\n",
      " $ Holiday_Label: int  2 2 2 2 2 2 2 2 2 2 ...\n"
     ]
    }
   ],
   "source": [
    "data_sp_vol = read.csv('VD_sp_vol.csv', stringsAsFactors = FALSE)\n",
    "head(data_sp_vol)\n",
    "str(data_sp_vol)"
   ]
  },
  {
   "cell_type": "markdown",
   "metadata": {
    "scrolled": true
   },
   "source": [
    "## III. 資料清洗\n",
    "1. 在事件資料中，處理時間 (Time)、方向 (Direction)中的字串，並增加星期幾 (Weekday)和小時 (Hour)兩欄位。\n",
    "2. 在車速車流量資料中，將車速取四捨五入為整數，並日期 (Date)轉成日期型態以及平日假日 (Holiday_Label)轉成因子變數。"
   ]
  },
  {
   "cell_type": "code",
   "execution_count": 4,
   "metadata": {},
   "outputs": [
    {
     "data": {
      "text/html": [
       "<table class=\"dataframe\">\n",
       "<caption>A data.frame: 6 × 6</caption>\n",
       "<thead>\n",
       "\t<tr><th></th><th scope=col>Level</th><th scope=col>Date</th><th scope=col>Time</th><th scope=col>KM</th><th scope=col>Weekday</th><th scope=col>Hour</th></tr>\n",
       "\t<tr><th></th><th scope=col>&lt;int&gt;</th><th scope=col>&lt;chr&gt;</th><th scope=col>&lt;chr&gt;</th><th scope=col>&lt;dbl&gt;</th><th scope=col>&lt;ord&gt;</th><th scope=col>&lt;dbl&gt;</th></tr>\n",
       "</thead>\n",
       "<tbody>\n",
       "\t<tr><th scope=row>1</th><td>2</td><td>2019-01-03</td><td>03:42</td><td> NA</td><td>星期四</td><td> 3</td></tr>\n",
       "\t<tr><th scope=row>2</th><td>3</td><td>2019-01-05</td><td>17:41</td><td>2.0</td><td>星期六</td><td>17</td></tr>\n",
       "\t<tr><th scope=row>3</th><td>2</td><td>2019-01-08</td><td>05:04</td><td> NA</td><td>星期二</td><td> 5</td></tr>\n",
       "\t<tr><th scope=row>4</th><td>2</td><td>2019-01-08</td><td>08:41</td><td> NA</td><td>星期二</td><td> 8</td></tr>\n",
       "\t<tr><th scope=row>5</th><td>3</td><td>2019-01-08</td><td>22:09</td><td> NA</td><td>星期二</td><td>22</td></tr>\n",
       "\t<tr><th scope=row>6</th><td>3</td><td>2019-01-09</td><td>17:12</td><td>1.5</td><td>星期三</td><td>17</td></tr>\n",
       "</tbody>\n",
       "</table>\n"
      ],
      "text/latex": [
       "A data.frame: 6 × 6\n",
       "\\begin{tabular}{r|llllll}\n",
       "  & Level & Date & Time & KM & Weekday & Hour\\\\\n",
       "  & <int> & <chr> & <chr> & <dbl> & <ord> & <dbl>\\\\\n",
       "\\hline\n",
       "\t1 & 2 & 2019-01-03 & 03:42 &  NA & 星期四 &  3\\\\\n",
       "\t2 & 3 & 2019-01-05 & 17:41 & 2.0 & 星期六 & 17\\\\\n",
       "\t3 & 2 & 2019-01-08 & 05:04 &  NA & 星期二 &  5\\\\\n",
       "\t4 & 2 & 2019-01-08 & 08:41 &  NA & 星期二 &  8\\\\\n",
       "\t5 & 3 & 2019-01-08 & 22:09 &  NA & 星期二 & 22\\\\\n",
       "\t6 & 3 & 2019-01-09 & 17:12 & 1.5 & 星期三 & 17\\\\\n",
       "\\end{tabular}\n"
      ],
      "text/markdown": [
       "\n",
       "A data.frame: 6 × 6\n",
       "\n",
       "| <!--/--> | Level &lt;int&gt; | Date &lt;chr&gt; | Time &lt;chr&gt; | KM &lt;dbl&gt; | Weekday &lt;ord&gt; | Hour &lt;dbl&gt; |\n",
       "|---|---|---|---|---|---|---|\n",
       "| 1 | 2 | 2019-01-03 | 03:42 |  NA | 星期四 |  3 |\n",
       "| 2 | 3 | 2019-01-05 | 17:41 | 2.0 | 星期六 | 17 |\n",
       "| 3 | 2 | 2019-01-08 | 05:04 |  NA | 星期二 |  5 |\n",
       "| 4 | 2 | 2019-01-08 | 08:41 |  NA | 星期二 |  8 |\n",
       "| 5 | 3 | 2019-01-08 | 22:09 |  NA | 星期二 | 22 |\n",
       "| 6 | 3 | 2019-01-09 | 17:12 | 1.5 | 星期三 | 17 |\n",
       "\n"
      ],
      "text/plain": [
       "  Level Date       Time  KM  Weekday Hour\n",
       "1 2     2019-01-03 03:42  NA 星期四   3  \n",
       "2 3     2019-01-05 17:41 2.0 星期六  17  \n",
       "3 2     2019-01-08 05:04  NA 星期二   5  \n",
       "4 2     2019-01-08 08:41  NA 星期二   8  \n",
       "5 3     2019-01-08 22:09  NA 星期二  22  \n",
       "6 3     2019-01-09 17:12 1.5 星期三  17  "
      ]
     },
     "metadata": {},
     "output_type": "display_data"
    }
   ],
   "source": [
    "data_accident %<>% set_colnames( c('Level', 'Date', 'Time', 'Direction', 'KM') ) %>%\n",
    "                   mutate( Time = str_replace( Time, ';', ':'  ), \n",
    "                           Direction = case_when( str_detect(Direction, '南')~'South',  str_detect( Direction, '北')~'North', TRUE~'Unsure' ),\n",
    "                           Weekday = wday( Date, label =T, abbr = F ), \n",
    "                           Hour = suppressWarnings( as.numeric( str_sub(Time, 1, 2) ) ) ) %>%\n",
    "                           select( -Direction )\n",
    "head(data_accident)"
   ]
  },
  {
   "cell_type": "code",
   "execution_count": 5,
   "metadata": {},
   "outputs": [
    {
     "data": {
      "text/html": [
       "<table class=\"dataframe\">\n",
       "<caption>A data.frame: 6 × 8</caption>\n",
       "<thead>\n",
       "\t<tr><th></th><th scope=col>Date</th><th scope=col>Weekday</th><th scope=col>Hour</th><th scope=col>Direction</th><th scope=col>Speed</th><th scope=col>Volume</th><th scope=col>Holiday_Label</th><th scope=col>Month</th></tr>\n",
       "\t<tr><th></th><th scope=col>&lt;date&gt;</th><th scope=col>&lt;chr&gt;</th><th scope=col>&lt;int&gt;</th><th scope=col>&lt;chr&gt;</th><th scope=col>&lt;dbl&gt;</th><th scope=col>&lt;int&gt;</th><th scope=col>&lt;fct&gt;</th><th scope=col>&lt;dbl&gt;</th></tr>\n",
       "</thead>\n",
       "<tbody>\n",
       "\t<tr><th scope=row>1</th><td>2019-01-01</td><td>星期二</td><td>0</td><td>North</td><td>80</td><td>1043</td><td>2</td><td>1</td></tr>\n",
       "\t<tr><th scope=row>2</th><td>2019-01-01</td><td>星期二</td><td>0</td><td>South</td><td>85</td><td> 570</td><td>2</td><td>1</td></tr>\n",
       "\t<tr><th scope=row>3</th><td>2019-01-01</td><td>星期二</td><td>1</td><td>North</td><td>80</td><td> 983</td><td>2</td><td>1</td></tr>\n",
       "\t<tr><th scope=row>4</th><td>2019-01-01</td><td>星期二</td><td>1</td><td>South</td><td>84</td><td> 761</td><td>2</td><td>1</td></tr>\n",
       "\t<tr><th scope=row>5</th><td>2019-01-01</td><td>星期二</td><td>2</td><td>North</td><td>82</td><td> 626</td><td>2</td><td>1</td></tr>\n",
       "\t<tr><th scope=row>6</th><td>2019-01-01</td><td>星期二</td><td>2</td><td>South</td><td>85</td><td> 619</td><td>2</td><td>1</td></tr>\n",
       "</tbody>\n",
       "</table>\n"
      ],
      "text/latex": [
       "A data.frame: 6 × 8\n",
       "\\begin{tabular}{r|llllllll}\n",
       "  & Date & Weekday & Hour & Direction & Speed & Volume & Holiday\\_Label & Month\\\\\n",
       "  & <date> & <chr> & <int> & <chr> & <dbl> & <int> & <fct> & <dbl>\\\\\n",
       "\\hline\n",
       "\t1 & 2019-01-01 & 星期二 & 0 & North & 80 & 1043 & 2 & 1\\\\\n",
       "\t2 & 2019-01-01 & 星期二 & 0 & South & 85 &  570 & 2 & 1\\\\\n",
       "\t3 & 2019-01-01 & 星期二 & 1 & North & 80 &  983 & 2 & 1\\\\\n",
       "\t4 & 2019-01-01 & 星期二 & 1 & South & 84 &  761 & 2 & 1\\\\\n",
       "\t5 & 2019-01-01 & 星期二 & 2 & North & 82 &  626 & 2 & 1\\\\\n",
       "\t6 & 2019-01-01 & 星期二 & 2 & South & 85 &  619 & 2 & 1\\\\\n",
       "\\end{tabular}\n"
      ],
      "text/markdown": [
       "\n",
       "A data.frame: 6 × 8\n",
       "\n",
       "| <!--/--> | Date &lt;date&gt; | Weekday &lt;chr&gt; | Hour &lt;int&gt; | Direction &lt;chr&gt; | Speed &lt;dbl&gt; | Volume &lt;int&gt; | Holiday_Label &lt;fct&gt; | Month &lt;dbl&gt; |\n",
       "|---|---|---|---|---|---|---|---|---|\n",
       "| 1 | 2019-01-01 | 星期二 | 0 | North | 80 | 1043 | 2 | 1 |\n",
       "| 2 | 2019-01-01 | 星期二 | 0 | South | 85 |  570 | 2 | 1 |\n",
       "| 3 | 2019-01-01 | 星期二 | 1 | North | 80 |  983 | 2 | 1 |\n",
       "| 4 | 2019-01-01 | 星期二 | 1 | South | 84 |  761 | 2 | 1 |\n",
       "| 5 | 2019-01-01 | 星期二 | 2 | North | 82 |  626 | 2 | 1 |\n",
       "| 6 | 2019-01-01 | 星期二 | 2 | South | 85 |  619 | 2 | 1 |\n",
       "\n"
      ],
      "text/plain": [
       "  Date       Weekday Hour Direction Speed Volume Holiday_Label Month\n",
       "1 2019-01-01 星期二  0    North     80    1043   2             1    \n",
       "2 2019-01-01 星期二  0    South     85     570   2             1    \n",
       "3 2019-01-01 星期二  1    North     80     983   2             1    \n",
       "4 2019-01-01 星期二  1    South     84     761   2             1    \n",
       "5 2019-01-01 星期二  2    North     82     626   2             1    \n",
       "6 2019-01-01 星期二  2    South     85     619   2             1    "
      ]
     },
     "metadata": {},
     "output_type": "display_data"
    }
   ],
   "source": [
    "data_sp_vol %<>% mutate( Speed = round(Speed), Date = as.Date(Date), Month = month(Date), \n",
    "                         Holiday_Label = as.factor(Holiday_Label) )\n",
    "head(data_sp_vol)"
   ]
  },
  {
   "cell_type": "markdown",
   "metadata": {},
   "source": [
    "## IV. 特徵工程\n",
    "探討並新增兩大類自變數\n",
    "\n",
    "自變數: \n",
    "1. 常發生事故的時間 (下午14:00~17:00; 六日) \n",
    "2. 根據歷史資料計算指定組別的車流量平均、中位數和標準差，例如以平日假日、星期幾和小時去計算平均、中位數和標準差，並合併至資料集中當作因子。"
   ]
  },
  {
   "cell_type": "markdown",
   "metadata": {},
   "source": [
    "## 1. 事故相關因子"
   ]
  },
  {
   "cell_type": "markdown",
   "metadata": {},
   "source": [
    "(1) 根據每小時發生的事件數量來繪製 Density Plot\n",
    "\n",
    "下午14:00~19:00為高事故時間，將增加下午 (14:00~19:00)因子進入模型中。"
   ]
  },
  {
   "cell_type": "code",
   "execution_count": 6,
   "metadata": {},
   "outputs": [
    {
     "data": {
      "image/png": "[encoded data removed]",
      "text/plain": [
       "Plot with title \"density.default(x = data_accident$Hour, na.rm = T)\""
      ]
     },
     "metadata": {
      "image/png": {
       "height": 360,
       "width": 480
      }
     },
     "output_type": "display_data"
    }
   ],
   "source": [
    "x = data_accident %>% filter( !is.na(Hour) ) %>% select(Hour)\n",
    "\n",
    "options( repr.plot.width = 8, repr.plot.height = 6)\n",
    "plot( density( data_accident$Hour,na.rm = T) )\n",
    "axis( side=1, at=seq(0, 24, 1) ) "
   ]
  },
  {
   "cell_type": "markdown",
   "metadata": {},
   "source": [
    "(2) 每星期每天發生事件的總數\n",
    "\n",
    "星期六和星期日的發生事件總數高於星期一到星期五，將增加假日(星期六和星期日)因子進入模型中。"
   ]
  },
  {
   "cell_type": "code",
   "execution_count": 7,
   "metadata": {},
   "outputs": [
    {
     "data": {
      "image/png": "[encoded data removed]",
      "text/plain": [
       "plot without title"
      ]
     },
     "metadata": {
      "image/png": {
       "height": 360,
       "width": 480
      }
     },
     "output_type": "display_data"
    }
   ],
   "source": [
    "accident_w = data_accident %>% group_by(Weekday) %>% summarise( Count = n() )  \n",
    "\n",
    "ggplot( accident_w, aes( x = Weekday, y = Count) ) + \n",
    "  geom_bar( stat = 'identity', fill = 'coral3' ) + \n",
    "  geom_text( aes( y = Count, label = Count ), hjust = 0.6, vjust = -0.5 )"
   ]
  },
  {
   "cell_type": "markdown",
   "metadata": {},
   "source": [
    "* 增加兩個事故相關因子到模型中，分別是下午(14:00~19:00)和假日(星期六和星期日)。"
   ]
  },
  {
   "cell_type": "code",
   "execution_count": 8,
   "metadata": {},
   "outputs": [
    {
     "data": {
      "text/html": [
       "<table class=\"dataframe\">\n",
       "<caption>A data.frame: 6 × 10</caption>\n",
       "<thead>\n",
       "\t<tr><th></th><th scope=col>Date</th><th scope=col>Weekday</th><th scope=col>Hour</th><th scope=col>Direction</th><th scope=col>Speed</th><th scope=col>Volume</th><th scope=col>Holiday_Label</th><th scope=col>Month</th><th scope=col>Acc_High_Day</th><th scope=col>Acc_High_Hour</th></tr>\n",
       "\t<tr><th></th><th scope=col>&lt;date&gt;</th><th scope=col>&lt;chr&gt;</th><th scope=col>&lt;int&gt;</th><th scope=col>&lt;chr&gt;</th><th scope=col>&lt;dbl&gt;</th><th scope=col>&lt;int&gt;</th><th scope=col>&lt;fct&gt;</th><th scope=col>&lt;dbl&gt;</th><th scope=col>&lt;dbl&gt;</th><th scope=col>&lt;dbl&gt;</th></tr>\n",
       "</thead>\n",
       "<tbody>\n",
       "\t<tr><th scope=row>1</th><td>2019-01-01</td><td>星期二</td><td>0</td><td>North</td><td>80</td><td>1043</td><td>2</td><td>1</td><td>0</td><td>0</td></tr>\n",
       "\t<tr><th scope=row>2</th><td>2019-01-01</td><td>星期二</td><td>0</td><td>South</td><td>85</td><td> 570</td><td>2</td><td>1</td><td>0</td><td>0</td></tr>\n",
       "\t<tr><th scope=row>3</th><td>2019-01-01</td><td>星期二</td><td>1</td><td>North</td><td>80</td><td> 983</td><td>2</td><td>1</td><td>0</td><td>0</td></tr>\n",
       "\t<tr><th scope=row>4</th><td>2019-01-01</td><td>星期二</td><td>1</td><td>South</td><td>84</td><td> 761</td><td>2</td><td>1</td><td>0</td><td>0</td></tr>\n",
       "\t<tr><th scope=row>5</th><td>2019-01-01</td><td>星期二</td><td>2</td><td>North</td><td>82</td><td> 626</td><td>2</td><td>1</td><td>0</td><td>0</td></tr>\n",
       "\t<tr><th scope=row>6</th><td>2019-01-01</td><td>星期二</td><td>2</td><td>South</td><td>85</td><td> 619</td><td>2</td><td>1</td><td>0</td><td>0</td></tr>\n",
       "</tbody>\n",
       "</table>\n"
      ],
      "text/latex": [
       "A data.frame: 6 × 10\n",
       "\\begin{tabular}{r|llllllllll}\n",
       "  & Date & Weekday & Hour & Direction & Speed & Volume & Holiday\\_Label & Month & Acc\\_High\\_Day & Acc\\_High\\_Hour\\\\\n",
       "  & <date> & <chr> & <int> & <chr> & <dbl> & <int> & <fct> & <dbl> & <dbl> & <dbl>\\\\\n",
       "\\hline\n",
       "\t1 & 2019-01-01 & 星期二 & 0 & North & 80 & 1043 & 2 & 1 & 0 & 0\\\\\n",
       "\t2 & 2019-01-01 & 星期二 & 0 & South & 85 &  570 & 2 & 1 & 0 & 0\\\\\n",
       "\t3 & 2019-01-01 & 星期二 & 1 & North & 80 &  983 & 2 & 1 & 0 & 0\\\\\n",
       "\t4 & 2019-01-01 & 星期二 & 1 & South & 84 &  761 & 2 & 1 & 0 & 0\\\\\n",
       "\t5 & 2019-01-01 & 星期二 & 2 & North & 82 &  626 & 2 & 1 & 0 & 0\\\\\n",
       "\t6 & 2019-01-01 & 星期二 & 2 & South & 85 &  619 & 2 & 1 & 0 & 0\\\\\n",
       "\\end{tabular}\n"
      ],
      "text/markdown": [
       "\n",
       "A data.frame: 6 × 10\n",
       "\n",
       "| <!--/--> | Date &lt;date&gt; | Weekday &lt;chr&gt; | Hour &lt;int&gt; | Direction &lt;chr&gt; | Speed &lt;dbl&gt; | Volume &lt;int&gt; | Holiday_Label &lt;fct&gt; | Month &lt;dbl&gt; | Acc_High_Day &lt;dbl&gt; | Acc_High_Hour &lt;dbl&gt; |\n",
       "|---|---|---|---|---|---|---|---|---|---|---|\n",
       "| 1 | 2019-01-01 | 星期二 | 0 | North | 80 | 1043 | 2 | 1 | 0 | 0 |\n",
       "| 2 | 2019-01-01 | 星期二 | 0 | South | 85 |  570 | 2 | 1 | 0 | 0 |\n",
       "| 3 | 2019-01-01 | 星期二 | 1 | North | 80 |  983 | 2 | 1 | 0 | 0 |\n",
       "| 4 | 2019-01-01 | 星期二 | 1 | South | 84 |  761 | 2 | 1 | 0 | 0 |\n",
       "| 5 | 2019-01-01 | 星期二 | 2 | North | 82 |  626 | 2 | 1 | 0 | 0 |\n",
       "| 6 | 2019-01-01 | 星期二 | 2 | South | 85 |  619 | 2 | 1 | 0 | 0 |\n",
       "\n"
      ],
      "text/plain": [
       "  Date       Weekday Hour Direction Speed Volume Holiday_Label Month\n",
       "1 2019-01-01 星期二  0    North     80    1043   2             1    \n",
       "2 2019-01-01 星期二  0    South     85     570   2             1    \n",
       "3 2019-01-01 星期二  1    North     80     983   2             1    \n",
       "4 2019-01-01 星期二  1    South     84     761   2             1    \n",
       "5 2019-01-01 星期二  2    North     82     626   2             1    \n",
       "6 2019-01-01 星期二  2    South     85     619   2             1    \n",
       "  Acc_High_Day Acc_High_Hour\n",
       "1 0            0            \n",
       "2 0            0            \n",
       "3 0            0            \n",
       "4 0            0            \n",
       "5 0            0            \n",
       "6 0            0            "
      ]
     },
     "metadata": {},
     "output_type": "display_data"
    }
   ],
   "source": [
    "data_sp_vol %<>% mutate( Acc_High_Day = ifelse( Weekday %in% c( '星期六', '星期日' ), 1 , 0 ) , \n",
    "                         Acc_High_Hour = ifelse( Hour >= 14 & Hour < 19 , 1 , 0 )  )\n",
    "head(data_sp_vol)"
   ]
  },
  {
   "cell_type": "markdown",
   "metadata": {},
   "source": [
    "### 2. 車流量相關因子"
   ]
  },
  {
   "cell_type": "code",
   "execution_count": 9,
   "metadata": {},
   "outputs": [],
   "source": [
    "data_Volume1 = data_sp_vol %>% group_by( Direction, Holiday_Label, Weekday, Hour) %>% \n",
    "                               summarise( mean1 = round( mean(Volume) ), median1 = round( median(Volume) ), sd1 = round( sd(Volume) ), .groups = 'drop' ) %>% \n",
    "                               mutate( sd1 = replace_na(sd1, 0)  )\n",
    "data_Volume2 = data_sp_vol %>% group_by( Direction, Weekday) %>% \n",
    "                               summarise( mean2 = round( mean(Volume) ), median2 = round( median(Volume) ), sd2 = round( sd(Volume) ), .groups = 'drop' ) %>% \n",
    "                               mutate( sd2 = replace_na(sd2, 0)  )\n",
    "data_Volume3 = data_sp_vol %>% group_by( Direction, Holiday_Label, Hour) %>% \n",
    "                               summarise( mean3 = round( mean(Volume) ), median3 = round( median(Volume) ), sd3 = round( sd(Volume) ), .groups = 'drop' ) %>% \n",
    "                               mutate( sd3 = replace_na(sd3, 0)  )"
   ]
  },
  {
   "cell_type": "code",
   "execution_count": 10,
   "metadata": {},
   "outputs": [],
   "source": [
    "# 合併至車流量資料中\n",
    "data_sp_vol %<>% left_join( data_Volume1, by = c('Direction', 'Holiday_Label', 'Weekday', 'Hour' ) ) %>%   \n",
    "                 left_join( data_Volume2, by = c('Direction','Weekday' ) ) %>% \n",
    "                 left_join( data_Volume3, by = c('Direction', 'Holiday_Label', 'Hour' ) )"
   ]
  },
  {
   "cell_type": "code",
   "execution_count": 11,
   "metadata": {},
   "outputs": [
    {
     "data": {
      "text/html": [
       "<table class=\"dataframe\">\n",
       "<caption>A data.frame: 6 × 20</caption>\n",
       "<thead>\n",
       "\t<tr><th></th><th scope=col>Date</th><th scope=col>Weekday</th><th scope=col>Hour</th><th scope=col>Direction</th><th scope=col>Speed</th><th scope=col>Volume</th><th scope=col>Month</th><th scope=col>Acc_High_Day</th><th scope=col>Acc_High_Hour</th><th scope=col>mean1</th><th scope=col>median1</th><th scope=col>sd1</th><th scope=col>mean2</th><th scope=col>median2</th><th scope=col>sd2</th><th scope=col>mean3</th><th scope=col>median3</th><th scope=col>sd3</th><th scope=col>Holiday_Label1</th><th scope=col>Holiday_Label2</th></tr>\n",
       "\t<tr><th></th><th scope=col>&lt;date&gt;</th><th scope=col>&lt;chr&gt;</th><th scope=col>&lt;int&gt;</th><th scope=col>&lt;chr&gt;</th><th scope=col>&lt;dbl&gt;</th><th scope=col>&lt;int&gt;</th><th scope=col>&lt;dbl&gt;</th><th scope=col>&lt;dbl&gt;</th><th scope=col>&lt;dbl&gt;</th><th scope=col>&lt;dbl&gt;</th><th scope=col>&lt;dbl&gt;</th><th scope=col>&lt;dbl&gt;</th><th scope=col>&lt;dbl&gt;</th><th scope=col>&lt;dbl&gt;</th><th scope=col>&lt;dbl&gt;</th><th scope=col>&lt;dbl&gt;</th><th scope=col>&lt;dbl&gt;</th><th scope=col>&lt;dbl&gt;</th><th scope=col>&lt;dbl&gt;</th><th scope=col>&lt;dbl&gt;</th></tr>\n",
       "</thead>\n",
       "<tbody>\n",
       "\t<tr><th scope=row>1</th><td>2019-01-01</td><td>星期二</td><td>0</td><td>North</td><td>80</td><td>1043</td><td>1</td><td>0</td><td>0</td><td>905</td><td>905</td><td>195</td><td>1085</td><td>1180</td><td>682</td><td>1223</td><td>905</td><td>765</td><td>0</td><td>1</td></tr>\n",
       "\t<tr><th scope=row>2</th><td>2019-01-01</td><td>星期二</td><td>0</td><td>South</td><td>85</td><td> 570</td><td>1</td><td>0</td><td>0</td><td>898</td><td>898</td><td>463</td><td>1077</td><td>1186</td><td>687</td><td> 924</td><td>568</td><td>611</td><td>0</td><td>1</td></tr>\n",
       "\t<tr><th scope=row>3</th><td>2019-01-01</td><td>星期二</td><td>1</td><td>North</td><td>80</td><td> 983</td><td>1</td><td>0</td><td>0</td><td>766</td><td>766</td><td>307</td><td>1085</td><td>1180</td><td>682</td><td> 923</td><td>628</td><td>701</td><td>0</td><td>1</td></tr>\n",
       "\t<tr><th scope=row>4</th><td>2019-01-01</td><td>星期二</td><td>1</td><td>South</td><td>84</td><td> 761</td><td>1</td><td>0</td><td>0</td><td>979</td><td>979</td><td>308</td><td>1077</td><td>1186</td><td>687</td><td> 761</td><td>444</td><td>645</td><td>0</td><td>1</td></tr>\n",
       "\t<tr><th scope=row>5</th><td>2019-01-01</td><td>星期二</td><td>2</td><td>North</td><td>82</td><td> 626</td><td>1</td><td>0</td><td>0</td><td>466</td><td>466</td><td>226</td><td>1085</td><td>1180</td><td>682</td><td> 554</td><td>352</td><td>528</td><td>0</td><td>1</td></tr>\n",
       "\t<tr><th scope=row>6</th><td>2019-01-01</td><td>星期二</td><td>2</td><td>South</td><td>85</td><td> 619</td><td>1</td><td>0</td><td>0</td><td>758</td><td>758</td><td>197</td><td>1077</td><td>1186</td><td>687</td><td> 516</td><td>349</td><td>438</td><td>0</td><td>1</td></tr>\n",
       "</tbody>\n",
       "</table>\n"
      ],
      "text/latex": [
       "A data.frame: 6 × 20\n",
       "\\begin{tabular}{r|llllllllllllllllllll}\n",
       "  & Date & Weekday & Hour & Direction & Speed & Volume & Month & Acc\\_High\\_Day & Acc\\_High\\_Hour & mean1 & median1 & sd1 & mean2 & median2 & sd2 & mean3 & median3 & sd3 & Holiday\\_Label1 & Holiday\\_Label2\\\\\n",
       "  & <date> & <chr> & <int> & <chr> & <dbl> & <int> & <dbl> & <dbl> & <dbl> & <dbl> & <dbl> & <dbl> & <dbl> & <dbl> & <dbl> & <dbl> & <dbl> & <dbl> & <dbl> & <dbl>\\\\\n",
       "\\hline\n",
       "\t1 & 2019-01-01 & 星期二 & 0 & North & 80 & 1043 & 1 & 0 & 0 & 905 & 905 & 195 & 1085 & 1180 & 682 & 1223 & 905 & 765 & 0 & 1\\\\\n",
       "\t2 & 2019-01-01 & 星期二 & 0 & South & 85 &  570 & 1 & 0 & 0 & 898 & 898 & 463 & 1077 & 1186 & 687 &  924 & 568 & 611 & 0 & 1\\\\\n",
       "\t3 & 2019-01-01 & 星期二 & 1 & North & 80 &  983 & 1 & 0 & 0 & 766 & 766 & 307 & 1085 & 1180 & 682 &  923 & 628 & 701 & 0 & 1\\\\\n",
       "\t4 & 2019-01-01 & 星期二 & 1 & South & 84 &  761 & 1 & 0 & 0 & 979 & 979 & 308 & 1077 & 1186 & 687 &  761 & 444 & 645 & 0 & 1\\\\\n",
       "\t5 & 2019-01-01 & 星期二 & 2 & North & 82 &  626 & 1 & 0 & 0 & 466 & 466 & 226 & 1085 & 1180 & 682 &  554 & 352 & 528 & 0 & 1\\\\\n",
       "\t6 & 2019-01-01 & 星期二 & 2 & South & 85 &  619 & 1 & 0 & 0 & 758 & 758 & 197 & 1077 & 1186 & 687 &  516 & 349 & 438 & 0 & 1\\\\\n",
       "\\end{tabular}\n"
      ],
      "text/markdown": [
       "\n",
       "A data.frame: 6 × 20\n",
       "\n",
       "| <!--/--> | Date &lt;date&gt; | Weekday &lt;chr&gt; | Hour &lt;int&gt; | Direction &lt;chr&gt; | Speed &lt;dbl&gt; | Volume &lt;int&gt; | Month &lt;dbl&gt; | Acc_High_Day &lt;dbl&gt; | Acc_High_Hour &lt;dbl&gt; | mean1 &lt;dbl&gt; | median1 &lt;dbl&gt; | sd1 &lt;dbl&gt; | mean2 &lt;dbl&gt; | median2 &lt;dbl&gt; | sd2 &lt;dbl&gt; | mean3 &lt;dbl&gt; | median3 &lt;dbl&gt; | sd3 &lt;dbl&gt; | Holiday_Label1 &lt;dbl&gt; | Holiday_Label2 &lt;dbl&gt; |\n",
       "|---|---|---|---|---|---|---|---|---|---|---|---|---|---|---|---|---|---|---|---|---|\n",
       "| 1 | 2019-01-01 | 星期二 | 0 | North | 80 | 1043 | 1 | 0 | 0 | 905 | 905 | 195 | 1085 | 1180 | 682 | 1223 | 905 | 765 | 0 | 1 |\n",
       "| 2 | 2019-01-01 | 星期二 | 0 | South | 85 |  570 | 1 | 0 | 0 | 898 | 898 | 463 | 1077 | 1186 | 687 |  924 | 568 | 611 | 0 | 1 |\n",
       "| 3 | 2019-01-01 | 星期二 | 1 | North | 80 |  983 | 1 | 0 | 0 | 766 | 766 | 307 | 1085 | 1180 | 682 |  923 | 628 | 701 | 0 | 1 |\n",
       "| 4 | 2019-01-01 | 星期二 | 1 | South | 84 |  761 | 1 | 0 | 0 | 979 | 979 | 308 | 1077 | 1186 | 687 |  761 | 444 | 645 | 0 | 1 |\n",
       "| 5 | 2019-01-01 | 星期二 | 2 | North | 82 |  626 | 1 | 0 | 0 | 466 | 466 | 226 | 1085 | 1180 | 682 |  554 | 352 | 528 | 0 | 1 |\n",
       "| 6 | 2019-01-01 | 星期二 | 2 | South | 85 |  619 | 1 | 0 | 0 | 758 | 758 | 197 | 1077 | 1186 | 687 |  516 | 349 | 438 | 0 | 1 |\n",
       "\n"
      ],
      "text/plain": [
       "  Date       Weekday Hour Direction Speed Volume Month Acc_High_Day\n",
       "1 2019-01-01 星期二  0    North     80    1043   1     0           \n",
       "2 2019-01-01 星期二  0    South     85     570   1     0           \n",
       "3 2019-01-01 星期二  1    North     80     983   1     0           \n",
       "4 2019-01-01 星期二  1    South     84     761   1     0           \n",
       "5 2019-01-01 星期二  2    North     82     626   1     0           \n",
       "6 2019-01-01 星期二  2    South     85     619   1     0           \n",
       "  Acc_High_Hour mean1 median1 sd1 mean2 median2 sd2 mean3 median3 sd3\n",
       "1 0             905   905     195 1085  1180    682 1223  905     765\n",
       "2 0             898   898     463 1077  1186    687  924  568     611\n",
       "3 0             766   766     307 1085  1180    682  923  628     701\n",
       "4 0             979   979     308 1077  1186    687  761  444     645\n",
       "5 0             466   466     226 1085  1180    682  554  352     528\n",
       "6 0             758   758     197 1077  1186    687  516  349     438\n",
       "  Holiday_Label1 Holiday_Label2\n",
       "1 0              1             \n",
       "2 0              1             \n",
       "3 0              1             \n",
       "4 0              1             \n",
       "5 0              1             \n",
       "6 0              1             "
      ]
     },
     "metadata": {},
     "output_type": "display_data"
    }
   ],
   "source": [
    "# 轉換Holiday_Label為dummy variables\n",
    "data_label = as.data.frame( model.matrix( ~Holiday_Label, data = data_sp_vol) )\n",
    "data_label = data.frame( model.matrix( ~Holiday_Label, data = data_sp_vol ) )\n",
    "data_sp_vol = bind_cols( data_sp_vol, select(data_label, -1) ) %>% select(-Holiday_Label)\n",
    "head(data_sp_vol)"
   ]
  },
  {
   "cell_type": "markdown",
   "metadata": {},
   "source": [
    "## V. 建模與評估--隨機森林(Random Forest)"
   ]
  },
  {
   "cell_type": "code",
   "execution_count": 12,
   "metadata": {},
   "outputs": [],
   "source": [
    "# 篩選方向的function\n",
    "filter_data = function(dataset, direc){\n",
    "  dataset %>% filter(Direction == direc)\n",
    "}\n",
    "\n",
    "set.seed(6666)\n",
    "direction = 'South'\n",
    "data1 = filter_data(data_sp_vol, direction) "
   ]
  },
  {
   "cell_type": "markdown",
   "metadata": {},
   "source": [
    "* 建立隨機森林 (Random Forest)模型"
   ]
  },
  {
   "cell_type": "code",
   "execution_count": 13,
   "metadata": {},
   "outputs": [
    {
     "name": "stdout",
     "output_type": "stream",
     "text": [
      "     |      Out-of-bag   |\n",
      "Tree |      MSE  %Var(y) |\n",
      " 100 | 8.278e+04    13.57 |\n",
      " 200 | 8.241e+04    13.51 |\n",
      " 300 | 8.238e+04    13.50 |\n",
      " 400 | 8.232e+04    13.49 |\n",
      " 500 | 8.228e+04    13.49 |\n"
     ]
    }
   ],
   "source": [
    "# 建立Training和Test dataset\n",
    "data1_train = data1 %>% filter( Month %in% 1:9 ) \n",
    "data1_test = data1 %>% filter( Month %in% 10:12 ) \n",
    "# 建立隨機森林 (Random Forest)模型\n",
    "xreg = select( data1_train, Volume, Acc_High_Day:Holiday_Label2 )  \n",
    "model_rf = randomForest( Volume ~ ., data = xreg, importane = T, proximity = T, do.trace = 100)"
   ]
  },
  {
   "cell_type": "markdown",
   "metadata": {},
   "source": [
    "* 顯示訓練的每個tree的誤差\n",
    "\n",
    "在第180顆tree時誤差率開始穩定。"
   ]
  },
  {
   "cell_type": "code",
   "execution_count": 14,
   "metadata": {},
   "outputs": [
    {
     "data": {
      "image/png": "[encoded data removed]",
      "text/plain": [
       "Plot with title \"model_rf\""
      ]
     },
     "metadata": {
      "image/png": {
       "height": 360,
       "width": 480
      }
     },
     "output_type": "display_data"
    }
   ],
   "source": [
    "plot(model_rf)"
   ]
  },
  {
   "cell_type": "markdown",
   "metadata": {},
   "source": [
    "* 畫出變數重要性圖形(由大至小排列)\n",
    "\n",
    "車流量相關因子的重要性大於事故相關因子和平日假日(Holiday_Label*)。\n",
    "\n",
    "車流量相關因子中，以平日假日、星期幾、小時計算的車流量平均數(mean1)和中位數(median1)的重要最高，其次是以平日假日、小時計算的車流量平均數(mean1)和中位數(median3)。\n",
    "\n",
    "單純以星期幾計算的車流量平均數(mean2)、中位數(median2)和標準差(sd3)的重要性低。"
   ]
  },
  {
   "cell_type": "code",
   "execution_count": 15,
   "metadata": {},
   "outputs": [
    {
     "data": {
      "image/png": "[encoded data removed]",
      "text/plain": [
       "Plot with title \"model_rf\""
      ]
     },
     "metadata": {
      "image/png": {
       "height": 360,
       "width": 480
      }
     },
     "output_type": "display_data"
    }
   ],
   "source": [
    "varImpPlot(model_rf, sort = TRUE)"
   ]
  },
  {
   "cell_type": "markdown",
   "metadata": {},
   "source": [
    "* 預測測試集的車流量"
   ]
  },
  {
   "cell_type": "code",
   "execution_count": 16,
   "metadata": {},
   "outputs": [],
   "source": [
    "xreg_pred = select( data1_test, Acc_High_Day:Holiday_Label2 ) \n",
    "prediction = predict(model_rf, newdata = xreg_pred)\n",
    "# 建立比較的Data Frame\n",
    "data1_comp = data1_test %>% bind_cols( Volume_pred = round( prediction ) )"
   ]
  },
  {
   "cell_type": "markdown",
   "metadata": {},
   "source": [
    "* 列出預測值與真實質差異最多的日期和小時\n",
    "\n",
    "10/9晚上和12/31晚上的車流量低估，連假前一天晚上的實際車流量較預測值高，可以將相關的變數加入來提高預測效果。"
   ]
  },
  {
   "cell_type": "code",
   "execution_count": 17,
   "metadata": {},
   "outputs": [
    {
     "data": {
      "text/html": [
       "<table class=\"dataframe\">\n",
       "<caption>A data.frame: 6 × 9</caption>\n",
       "<thead>\n",
       "\t<tr><th></th><th scope=col>Date</th><th scope=col>Weekday</th><th scope=col>Hour</th><th scope=col>Direction</th><th scope=col>Volume</th><th scope=col>Volume_pred</th><th scope=col>diff</th><th scope=col>pent</th><th scope=col>rank</th></tr>\n",
       "\t<tr><th></th><th scope=col>&lt;date&gt;</th><th scope=col>&lt;chr&gt;</th><th scope=col>&lt;int&gt;</th><th scope=col>&lt;chr&gt;</th><th scope=col>&lt;int&gt;</th><th scope=col>&lt;dbl&gt;</th><th scope=col>&lt;dbl&gt;</th><th scope=col>&lt;dbl&gt;</th><th scope=col>&lt;int&gt;</th></tr>\n",
       "</thead>\n",
       "<tbody>\n",
       "\t<tr><th scope=row>13232</th><td>2019-10-09</td><td>星期三</td><td>22</td><td>South</td><td>2554</td><td> 838</td><td>1716</td><td>-0.67</td><td>1</td></tr>\n",
       "\t<tr><th scope=row>13234</th><td>2019-10-09</td><td>星期三</td><td>23</td><td>South</td><td>2249</td><td> 567</td><td>1682</td><td>-0.75</td><td>2</td></tr>\n",
       "\t<tr><th scope=row>17052</th><td>2019-12-31</td><td>星期二</td><td>20</td><td>South</td><td>2477</td><td>1020</td><td>1457</td><td>-0.59</td><td>3</td></tr>\n",
       "\t<tr><th scope=row>13230</th><td>2019-10-09</td><td>星期三</td><td>21</td><td>South</td><td>2379</td><td> 949</td><td>1430</td><td>-0.60</td><td>4</td></tr>\n",
       "\t<tr><th scope=row>17050</th><td>2019-12-31</td><td>星期二</td><td>19</td><td>South</td><td>2607</td><td>1313</td><td>1294</td><td>-0.50</td><td>5</td></tr>\n",
       "\t<tr><th scope=row>16240</th><td>2019-12-14</td><td>星期六</td><td>14</td><td>South</td><td>1038</td><td>2295</td><td>1257</td><td> 1.21</td><td>6</td></tr>\n",
       "</tbody>\n",
       "</table>\n"
      ],
      "text/latex": [
       "A data.frame: 6 × 9\n",
       "\\begin{tabular}{r|lllllllll}\n",
       "  & Date & Weekday & Hour & Direction & Volume & Volume\\_pred & diff & pent & rank\\\\\n",
       "  & <date> & <chr> & <int> & <chr> & <int> & <dbl> & <dbl> & <dbl> & <int>\\\\\n",
       "\\hline\n",
       "\t13232 & 2019-10-09 & 星期三 & 22 & South & 2554 &  838 & 1716 & -0.67 & 1\\\\\n",
       "\t13234 & 2019-10-09 & 星期三 & 23 & South & 2249 &  567 & 1682 & -0.75 & 2\\\\\n",
       "\t17052 & 2019-12-31 & 星期二 & 20 & South & 2477 & 1020 & 1457 & -0.59 & 3\\\\\n",
       "\t13230 & 2019-10-09 & 星期三 & 21 & South & 2379 &  949 & 1430 & -0.60 & 4\\\\\n",
       "\t17050 & 2019-12-31 & 星期二 & 19 & South & 2607 & 1313 & 1294 & -0.50 & 5\\\\\n",
       "\t16240 & 2019-12-14 & 星期六 & 14 & South & 1038 & 2295 & 1257 &  1.21 & 6\\\\\n",
       "\\end{tabular}\n"
      ],
      "text/markdown": [
       "\n",
       "A data.frame: 6 × 9\n",
       "\n",
       "| <!--/--> | Date &lt;date&gt; | Weekday &lt;chr&gt; | Hour &lt;int&gt; | Direction &lt;chr&gt; | Volume &lt;int&gt; | Volume_pred &lt;dbl&gt; | diff &lt;dbl&gt; | pent &lt;dbl&gt; | rank &lt;int&gt; |\n",
       "|---|---|---|---|---|---|---|---|---|---|\n",
       "| 13232 | 2019-10-09 | 星期三 | 22 | South | 2554 |  838 | 1716 | -0.67 | 1 |\n",
       "| 13234 | 2019-10-09 | 星期三 | 23 | South | 2249 |  567 | 1682 | -0.75 | 2 |\n",
       "| 17052 | 2019-12-31 | 星期二 | 20 | South | 2477 | 1020 | 1457 | -0.59 | 3 |\n",
       "| 13230 | 2019-10-09 | 星期三 | 21 | South | 2379 |  949 | 1430 | -0.60 | 4 |\n",
       "| 17050 | 2019-12-31 | 星期二 | 19 | South | 2607 | 1313 | 1294 | -0.50 | 5 |\n",
       "| 16240 | 2019-12-14 | 星期六 | 14 | South | 1038 | 2295 | 1257 |  1.21 | 6 |\n",
       "\n"
      ],
      "text/plain": [
       "      Date       Weekday Hour Direction Volume Volume_pred diff pent  rank\n",
       "13232 2019-10-09 星期三  22   South     2554    838        1716 -0.67 1   \n",
       "13234 2019-10-09 星期三  23   South     2249    567        1682 -0.75 2   \n",
       "17052 2019-12-31 星期二  20   South     2477   1020        1457 -0.59 3   \n",
       "13230 2019-10-09 星期三  21   South     2379    949        1430 -0.60 4   \n",
       "17050 2019-12-31 星期二  19   South     2607   1313        1294 -0.50 5   \n",
       "16240 2019-12-14 星期六  14   South     1038   2295        1257  1.21 6   "
      ]
     },
     "metadata": {},
     "output_type": "display_data"
    }
   ],
   "source": [
    "data1_comp2 = data1_comp %>% mutate( diff = abs(Volume_pred-Volume), pent = round( (Volume_pred- Volume)/Volume, 2 ) ) %>% \n",
    "                             select(Date, Weekday, Hour, Direction, Volume, Volume_pred, diff, pent ) %>% arrange(desc(diff)) %>%\n",
    "                             mutate( rank = row_number() )\n",
    "head(data1_comp2)"
   ]
  },
  {
   "cell_type": "markdown",
   "metadata": {},
   "source": [
    "* 畫出車流量差異的Density Plot\n",
    "\n",
    "50%項目的差異在71以下。"
   ]
  },
  {
   "cell_type": "code",
   "execution_count": 18,
   "metadata": {},
   "outputs": [
    {
     "data": {
      "text/plain": [
       "   Min. 1st Qu.  Median    Mean 3rd Qu.    Max. \n",
       "    0.0    28.0    71.0   114.5   148.0  1716.0 "
      ]
     },
     "metadata": {},
     "output_type": "display_data"
    },
    {
     "data": {
      "image/png": "[encoded data removed]",
      "text/plain": [
       "Plot with title \"density.default(x = data1_comp2$diff)\""
      ]
     },
     "metadata": {
      "image/png": {
       "height": 360,
       "width": 480
      }
     },
     "output_type": "display_data"
    }
   ],
   "source": [
    "plot( density( data1_comp2$diff ) )\n",
    "summary( data1_comp2$diff )"
   ]
  },
  {
   "cell_type": "markdown",
   "metadata": {},
   "source": [
    "* 評估指標\n",
    "\n",
    "\n",
    "1. RMSE約為190.5，最小越好，通常以不同模型來比較 (時間數列模型的RMSE為650)。\n",
    "2. MAE約為114.5，最小越好，代表預測值與實際值的差異約為114.5。\n",
    "3. MAPE約為13.3%，最接近0代表預測值與實際值的差異小，代表預測值與實際值的差異約為實際值的13%。"
   ]
  },
  {
   "cell_type": "code",
   "execution_count": 19,
   "metadata": {},
   "outputs": [
    {
     "data": {
      "text/html": [
       "190.536831351839"
      ],
      "text/latex": [
       "190.536831351839"
      ],
      "text/markdown": [
       "190.536831351839"
      ],
      "text/plain": [
       "[1] 190.5368"
      ]
     },
     "metadata": {},
     "output_type": "display_data"
    },
    {
     "data": {
      "text/html": [
       "114.486359360301"
      ],
      "text/latex": [
       "114.486359360301"
      ],
      "text/markdown": [
       "114.486359360301"
      ],
      "text/plain": [
       "[1] 114.4864"
      ]
     },
     "metadata": {},
     "output_type": "display_data"
    },
    {
     "data": {
      "text/html": [
       "0.132717878361963"
      ],
      "text/latex": [
       "0.132717878361963"
      ],
      "text/markdown": [
       "0.132717878361963"
      ],
      "text/plain": [
       "[1] 0.1327179"
      ]
     },
     "metadata": {},
     "output_type": "display_data"
    }
   ],
   "source": [
    "# RMSE\n",
    "rmse( data1_comp$Volume_pred, data1_comp$Volume )\n",
    "# MAE\n",
    "mean( abs( data1_comp$Volume_pred - data1_comp$Volume ) )    \n",
    "# MAPE\n",
    "mean( abs( (data1_comp$Volume_pred - data1_comp$Volume) / data1_comp$Volume ) ) "
   ]
  },
  {
   "cell_type": "markdown",
   "metadata": {},
   "source": [
    "* 比較訓練集的預測值與實際值\n",
    "\n",
    "除了特定日期之外，大致上實際車流量(黑線)接近預測車流量(紅線)。\n",
    "\n",
    "在連假前一天預測的狀況不好，例如: 10/9和12/31。此外，特殊日期的車流量也低估，例如: 12/25。"
   ]
  },
  {
   "cell_type": "code",
   "execution_count": 20,
   "metadata": {
    "scrolled": true
   },
   "outputs": [
    {
     "data": {
      "image/png": "[encoded data removed]",
      "text/plain": [
       "plot without title"
      ]
     },
     "metadata": {
      "image/png": {
       "height": 720,
       "width": 960
      }
     },
     "output_type": "display_data"
    }
   ],
   "source": [
    "# 調整圖的寬度和高度\n",
    "options(repr.plot.width=16, repr.plot.height=12)\n",
    "\n",
    "ggplot( data = data1_comp, aes(x= Hour) ) + \n",
    "  geom_line( aes(y = Volume, group = 1),  color = 'black' ) + \n",
    "  geom_line( aes(y = Volume_pred, group = 1),  color = 'red', linetype = 'longdash' ) +\n",
    "  facet_wrap(~Date, scales = \"free\") +\n",
    "  ggtitle( 'Prediction and Actual' ) +\n",
    "  theme(axis.title.x=element_blank(), axis.text.x = element_text(angle = 90 ) ) +\n",
    "  theme_classic() "
   ]
  }
 ],
 "metadata": {
  "kernelspec": {
   "display_name": "R",
   "language": "R",
   "name": "ir"
  },
  "language_info": {
   "codemirror_mode": "r",
   "file_extension": ".r",
   "mimetype": "text/x-r-source",
   "name": "R",
   "pygments_lexer": "r",
   "version": "4.1.0"
  }
 },
 "nbformat": 4,
 "nbformat_minor": 2
}
